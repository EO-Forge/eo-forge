{
 "cells": [
  {
   "cell_type": "markdown",
   "id": "de9cd024",
   "metadata": {
    "tags": []
   },
   "source": [
    "# EO-Forge GCP Downloader\n",
    "\n",
    "## EO-Forge Downloader\n",
    "\n",
    "We will cover the basics steps to download scenes from:\n",
    "\n",
    "-  Landsat 5\n",
    "-  Landsat 8\n",
    "-  Sentinel 2\n"
   ]
  },
  {
   "cell_type": "code",
   "execution_count": 1,
   "id": "9299865a",
   "metadata": {},
   "outputs": [],
   "source": [
    "import os\n",
    "from eo_forge.utils.downloader import bucket_images_downloader, gcSatImg"
   ]
  },
  {
   "cell_type": "markdown",
   "id": "1a8a0947",
   "metadata": {},
   "source": [
    "### Configurations\n",
    "\n",
    "Pick dates and folders to dump the images"
   ]
  },
  {
   "cell_type": "code",
   "execution_count": 2,
   "id": "06c521b5",
   "metadata": {
    "tags": []
   },
   "outputs": [],
   "source": [
    "# date\n",
    "INI_DATETIME_STR = \"2021-08-10\"\n",
    "END_DATETIME_STR = \"2021-09-09\"\n",
    "#\n",
    "BASE_PROD = \"./products-int/\"\n",
    "#\n",
    "# IMAGES CROP\n",
    "IMAGES_RAW = os.path.join(BASE_PROD, \"images-raw\")\n",
    "os.makedirs(IMAGES_RAW, exist_ok=True)"
   ]
  },
  {
   "cell_type": "markdown",
   "id": "6e265e1d",
   "metadata": {},
   "source": [
    "## Sentinel 2 Tile\n",
    "\n",
    "__NOTE__: Have you checked google cloud requisites in _eo-forge-gcp-downloader-0.ipynb_?\n",
    "\n",
    "For Sentinel 2 you will need a boto config file.\n"
   ]
  },
  {
   "cell_type": "markdown",
   "id": "ef632ab7-d90f-4590-b59f-a024c3834a1e",
   "metadata": {},
   "source": [
    "### Query Images Data (on TILE)"
   ]
  },
  {
   "cell_type": "code",
   "execution_count": 3,
   "id": "bdd27366",
   "metadata": {
    "tags": []
   },
   "outputs": [],
   "source": [
    "# Tile to Download\n",
    "TILE = [\"19\", \"F\", \"CF\"]\n",
    "# Filters on Results\n",
    "SENTINEL2_FILTERS = [\"*_R010_*\"]"
   ]
  },
  {
   "cell_type": "code",
   "execution_count": 4,
   "id": "68f32e65-5227-4f2b-834c-530ef7cddd59",
   "metadata": {},
   "outputs": [],
   "source": [
    "import os"
   ]
  },
  {
   "cell_type": "code",
   "execution_count": 5,
   "id": "f5907c62-bb2a-472b-9c3e-ed98d6efc569",
   "metadata": {},
   "outputs": [
    {
     "name": "stdout",
     "output_type": "stream",
     "text": [
      "2021/12/11 11:55:02 - INFO - Running on spacecraft S2\n",
      "2021/12/11 11:55:02 - INFO - Setting boto path to: /home/aperez/.boto\n",
      "2021/12/11 11:55:02 - DEBUG - Running: gsutil ls gs://gcp-public-data-sentinel-2/tiles/19/F/CF/\n",
      "2021/12/11 11:55:03 - INFO - Checking bucket: gsutil ls gs://gcp-public-data-sentinel-2/tiles/19/F/CF/\n",
      "2021/12/11 11:55:03 - DEBUG - Copying meta with cmd: gsutil cp gs://gcp-public-data-sentinel-2/tiles/19/F/CF/S2A_MSIL1C_20210810T141741_N0301_R010_T19FCF_20210810T193059.SAFE/MTD_MSIL1C.xml /tmp/tmp54oh9k0r\n",
      "2021/12/11 11:55:04 - DEBUG - Copying meta with cmd: gsutil cp gs://gcp-public-data-sentinel-2/tiles/19/F/CF/S2A_MSIL1C_20210820T141741_N0301_R010_T19FCF_20210820T192708.SAFE/MTD_MSIL1C.xml /tmp/tmp54oh9k0r\n",
      "2021/12/11 11:55:05 - DEBUG - Copying meta with cmd: gsutil cp gs://gcp-public-data-sentinel-2/tiles/19/F/CF/S2A_MSIL1C_20210830T141741_N0301_R010_T19FCF_20210830T192632.SAFE/MTD_MSIL1C.xml /tmp/tmp54oh9k0r\n",
      "2021/12/11 11:55:07 - DEBUG - Copying meta with cmd: gsutil cp gs://gcp-public-data-sentinel-2/tiles/19/F/CF/S2A_MSIL1C_20210909T141741_N0301_R010_T19FCF_20210909T192631.SAFE/MTD_MSIL1C.xml /tmp/tmp54oh9k0r\n",
      "2021/12/11 11:55:09 - DEBUG - Copying meta with cmd: gsutil cp gs://gcp-public-data-sentinel-2/tiles/19/F/CF/S2B_MSIL1C_20210815T141739_N0301_R010_T19FCF_20210815T174023.SAFE/MTD_MSIL1C.xml /tmp/tmp54oh9k0r\n",
      "2021/12/11 11:55:09 - DEBUG - Copying meta with cmd: gsutil cp gs://gcp-public-data-sentinel-2/tiles/19/F/CF/S2B_MSIL1C_20210825T141739_N0301_R010_T19FCF_20210825T174914.SAFE/MTD_MSIL1C.xml /tmp/tmp54oh9k0r\n",
      "2021/12/11 11:55:10 - DEBUG - Copying meta with cmd: gsutil cp gs://gcp-public-data-sentinel-2/tiles/19/F/CF/S2B_MSIL1C_20210904T141729_N0301_R010_T19FCF_20210904T174521.SAFE/MTD_MSIL1C.xml /tmp/tmp54oh9k0r\n"
     ]
    }
   ],
   "source": [
    "# initImagesCheck\n",
    "gcp_images = gcSatImg(spacecraft=\"S2\")\n",
    "# Check Images ond Google Cloud Sentinel Bucket\n",
    "gcp_images.gcImagesCheck(TILE)\n",
    "# Now filt them\n",
    "gcp_images.gcImagesFilt(\n",
    "    filters=SENTINEL2_FILTERS, dates=[INI_DATETIME_STR, END_DATETIME_STR]\n",
    ")"
   ]
  },
  {
   "cell_type": "code",
   "execution_count": 6,
   "id": "18942f94-45e8-485b-b6d8-80a298e3117c",
   "metadata": {},
   "outputs": [
    {
     "data": {
      "text/html": [
       "<div>\n",
       "<style scoped>\n",
       "    .dataframe tbody tr th:only-of-type {\n",
       "        vertical-align: middle;\n",
       "    }\n",
       "\n",
       "    .dataframe tbody tr th {\n",
       "        vertical-align: top;\n",
       "    }\n",
       "\n",
       "    .dataframe thead th {\n",
       "        text-align: right;\n",
       "    }\n",
       "</style>\n",
       "<table border=\"1\" class=\"dataframe\">\n",
       "  <thead>\n",
       "    <tr style=\"text-align: right;\">\n",
       "      <th></th>\n",
       "      <th>product-id</th>\n",
       "      <th>base-url</th>\n",
       "      <th>date</th>\n",
       "      <th>clouds</th>\n",
       "    </tr>\n",
       "  </thead>\n",
       "  <tbody>\n",
       "    <tr>\n",
       "      <th>0</th>\n",
       "      <td>S2A_MSIL1C_20210810T141741_N0301_R010_T19FCF_2...</td>\n",
       "      <td>gs://gcp-public-data-sentinel-2/tiles/19/F/CF/...</td>\n",
       "      <td>2021-08-10</td>\n",
       "      <td>0.0764</td>\n",
       "    </tr>\n",
       "    <tr>\n",
       "      <th>1</th>\n",
       "      <td>S2A_MSIL1C_20210820T141741_N0301_R010_T19FCF_2...</td>\n",
       "      <td>gs://gcp-public-data-sentinel-2/tiles/19/F/CF/...</td>\n",
       "      <td>2021-08-20</td>\n",
       "      <td>8.1912</td>\n",
       "    </tr>\n",
       "    <tr>\n",
       "      <th>2</th>\n",
       "      <td>S2A_MSIL1C_20210830T141741_N0301_R010_T19FCF_2...</td>\n",
       "      <td>gs://gcp-public-data-sentinel-2/tiles/19/F/CF/...</td>\n",
       "      <td>2021-08-30</td>\n",
       "      <td>0.5686</td>\n",
       "    </tr>\n",
       "    <tr>\n",
       "      <th>3</th>\n",
       "      <td>S2A_MSIL1C_20210909T141741_N0301_R010_T19FCF_2...</td>\n",
       "      <td>gs://gcp-public-data-sentinel-2/tiles/19/F/CF/...</td>\n",
       "      <td>2021-09-09</td>\n",
       "      <td>9.2897</td>\n",
       "    </tr>\n",
       "    <tr>\n",
       "      <th>4</th>\n",
       "      <td>S2B_MSIL1C_20210815T141739_N0301_R010_T19FCF_2...</td>\n",
       "      <td>gs://gcp-public-data-sentinel-2/tiles/19/F/CF/...</td>\n",
       "      <td>2021-08-15</td>\n",
       "      <td>88.9605</td>\n",
       "    </tr>\n",
       "    <tr>\n",
       "      <th>5</th>\n",
       "      <td>S2B_MSIL1C_20210825T141739_N0301_R010_T19FCF_2...</td>\n",
       "      <td>gs://gcp-public-data-sentinel-2/tiles/19/F/CF/...</td>\n",
       "      <td>2021-08-25</td>\n",
       "      <td>80.1781</td>\n",
       "    </tr>\n",
       "    <tr>\n",
       "      <th>6</th>\n",
       "      <td>S2B_MSIL1C_20210904T141729_N0301_R010_T19FCF_2...</td>\n",
       "      <td>gs://gcp-public-data-sentinel-2/tiles/19/F/CF/...</td>\n",
       "      <td>2021-09-04</td>\n",
       "      <td>47.2200</td>\n",
       "    </tr>\n",
       "  </tbody>\n",
       "</table>\n",
       "</div>"
      ],
      "text/plain": [
       "                                          product-id  \\\n",
       "0  S2A_MSIL1C_20210810T141741_N0301_R010_T19FCF_2...   \n",
       "1  S2A_MSIL1C_20210820T141741_N0301_R010_T19FCF_2...   \n",
       "2  S2A_MSIL1C_20210830T141741_N0301_R010_T19FCF_2...   \n",
       "3  S2A_MSIL1C_20210909T141741_N0301_R010_T19FCF_2...   \n",
       "4  S2B_MSIL1C_20210815T141739_N0301_R010_T19FCF_2...   \n",
       "5  S2B_MSIL1C_20210825T141739_N0301_R010_T19FCF_2...   \n",
       "6  S2B_MSIL1C_20210904T141729_N0301_R010_T19FCF_2...   \n",
       "\n",
       "                                            base-url       date   clouds  \n",
       "0  gs://gcp-public-data-sentinel-2/tiles/19/F/CF/... 2021-08-10   0.0764  \n",
       "1  gs://gcp-public-data-sentinel-2/tiles/19/F/CF/... 2021-08-20   8.1912  \n",
       "2  gs://gcp-public-data-sentinel-2/tiles/19/F/CF/... 2021-08-30   0.5686  \n",
       "3  gs://gcp-public-data-sentinel-2/tiles/19/F/CF/... 2021-09-09   9.2897  \n",
       "4  gs://gcp-public-data-sentinel-2/tiles/19/F/CF/... 2021-08-15  88.9605  \n",
       "5  gs://gcp-public-data-sentinel-2/tiles/19/F/CF/... 2021-08-25  80.1781  \n",
       "6  gs://gcp-public-data-sentinel-2/tiles/19/F/CF/... 2021-09-04  47.2200  "
      ]
     },
     "execution_count": 6,
     "metadata": {},
     "output_type": "execute_result"
    }
   ],
   "source": [
    "gcp_images.pd_filt"
   ]
  },
  {
   "cell_type": "code",
   "execution_count": 7,
   "id": "2b1472cd",
   "metadata": {
    "tags": []
   },
   "outputs": [],
   "source": [
    "# we will just download one\n",
    "pd_filt = gcp_images.pd_filt.iloc[[0]]"
   ]
  },
  {
   "cell_type": "markdown",
   "id": "614c0c60",
   "metadata": {
    "tags": []
   },
   "source": [
    "### Download Selected Images"
   ]
  },
  {
   "cell_type": "code",
   "execution_count": 8,
   "id": "c67336f4",
   "metadata": {
    "tags": []
   },
   "outputs": [
    {
     "name": "stdout",
     "output_type": "stream",
     "text": [
      "2021/12/11 11:55:11 - INFO - Running on spacecraft S2\n",
      "2021/12/11 11:55:11 - INFO - Requesting bands ['B02', 'B03', 'B04', 'B08', 'B11']\n",
      "2021/12/11 11:55:11 - INFO - Skipping ./products-int/images-raw/S2A_MSIL1C_20210810T141741_N0301_R010_T19FCF_20210810T193059.SAFE (dir already existed).\n"
     ]
    }
   ],
   "source": [
    "# Bands to Query\n",
    "SENTINEL2_BANDS = [\"B02\", \"B03\", \"B04\", \"B08\", \"B11\"]\n",
    "# Init Google Cloud bucket Downloader\n",
    "bid = bucket_images_downloader(spacecraft=\"S2\", bands=SENTINEL2_BANDS)\n",
    "# Start Downloading with up to 5 simultaneous downloads\n",
    "bid.execute(\n",
    "    pd_filt[\"base-url\"].to_list(),\n",
    "    archive=IMAGES_RAW,\n",
    "    max_proc_thread=5,\n",
    "    force_download=False,\n",
    ")"
   ]
  },
  {
   "cell_type": "markdown",
   "id": "e5d9c833-bdcd-4a6d-8de4-80d613d625cb",
   "metadata": {},
   "source": [
    "## Landsat 8\n",
    "\n",
    "### Query Images Data (on PATH/ROW)"
   ]
  },
  {
   "cell_type": "code",
   "execution_count": 9,
   "id": "5cf8d2c0-0cd0-4a8c-a4d2-3a2e5bd8264c",
   "metadata": {},
   "outputs": [],
   "source": [
    "# Tile to Download\n",
    "TILE = [\"230\", \"094\"]\n",
    "# Filters on Results\n",
    "LANDSAT_FILTERS = [\"*_L1TP_*\"]"
   ]
  },
  {
   "cell_type": "code",
   "execution_count": 10,
   "id": "b6670a64-16c4-43b0-b1dd-d71c47256d4c",
   "metadata": {},
   "outputs": [
    {
     "name": "stdout",
     "output_type": "stream",
     "text": [
      "2021/12/11 11:55:11 - INFO - Running on spacecraft L8\n",
      "2021/12/11 11:55:11 - INFO - Setting boto path to: /home/aperez/.boto\n",
      "2021/12/11 11:55:11 - DEBUG - Running: gsutil ls gs://gcp-public-data-landsat/LC08/01/230/094/\n",
      "2021/12/11 11:55:12 - INFO - Checking bucket: gsutil ls gs://gcp-public-data-landsat/LC08/01/230/094/\n",
      "2021/12/11 11:55:12 - DEBUG - Copying meta with cmd: gsutil cp gs://gcp-public-data-landsat/LC08/01/230/094/LC08_L1TP_230094_20210904_20210904_01_RT/LC08_L1TP_230094_20210904_20210904_01_RT_MTL.txt /tmp/tmphof3i5fj\n",
      "2021/12/11 11:55:12 - DEBUG - Copying meta with cmd: gsutil cp gs://gcp-public-data-landsat/LC08/01/230/094/LC08_L1TP_230094_20210904_20210910_01_T1/LC08_L1TP_230094_20210904_20210910_01_T1_MTL.txt /tmp/tmphof3i5fj\n"
     ]
    }
   ],
   "source": [
    "# initImagesCheck\n",
    "gcp_images = gcSatImg(spacecraft=\"L8\")\n",
    "# Check Images ond Google Cloud Sentinel Bucket\n",
    "gcp_images.gcImagesCheck(TILE)\n",
    "# Now filt them\n",
    "gcp_images.gcImagesFilt(\n",
    "    filters=LANDSAT_FILTERS, dates=[INI_DATETIME_STR, END_DATETIME_STR]\n",
    ")"
   ]
  },
  {
   "cell_type": "code",
   "execution_count": 11,
   "id": "f80bacb4-4acd-4623-9d81-6a41a9acd9bf",
   "metadata": {},
   "outputs": [
    {
     "data": {
      "text/html": [
       "<div>\n",
       "<style scoped>\n",
       "    .dataframe tbody tr th:only-of-type {\n",
       "        vertical-align: middle;\n",
       "    }\n",
       "\n",
       "    .dataframe tbody tr th {\n",
       "        vertical-align: top;\n",
       "    }\n",
       "\n",
       "    .dataframe thead th {\n",
       "        text-align: right;\n",
       "    }\n",
       "</style>\n",
       "<table border=\"1\" class=\"dataframe\">\n",
       "  <thead>\n",
       "    <tr style=\"text-align: right;\">\n",
       "      <th></th>\n",
       "      <th>product-id</th>\n",
       "      <th>base-url</th>\n",
       "      <th>date</th>\n",
       "      <th>clouds</th>\n",
       "    </tr>\n",
       "  </thead>\n",
       "  <tbody>\n",
       "    <tr>\n",
       "      <th>0</th>\n",
       "      <td>LC08_L1TP_230094_20210904_20210904_01_RT</td>\n",
       "      <td>gs://gcp-public-data-landsat/LC08/01/230/094/L...</td>\n",
       "      <td>2021-09-04</td>\n",
       "      <td>27.26</td>\n",
       "    </tr>\n",
       "    <tr>\n",
       "      <th>1</th>\n",
       "      <td>LC08_L1TP_230094_20210904_20210910_01_T1</td>\n",
       "      <td>gs://gcp-public-data-landsat/LC08/01/230/094/L...</td>\n",
       "      <td>2021-09-04</td>\n",
       "      <td>27.26</td>\n",
       "    </tr>\n",
       "  </tbody>\n",
       "</table>\n",
       "</div>"
      ],
      "text/plain": [
       "                                 product-id  \\\n",
       "0  LC08_L1TP_230094_20210904_20210904_01_RT   \n",
       "1  LC08_L1TP_230094_20210904_20210910_01_T1   \n",
       "\n",
       "                                            base-url       date clouds  \n",
       "0  gs://gcp-public-data-landsat/LC08/01/230/094/L... 2021-09-04  27.26  \n",
       "1  gs://gcp-public-data-landsat/LC08/01/230/094/L... 2021-09-04  27.26  "
      ]
     },
     "execution_count": 11,
     "metadata": {},
     "output_type": "execute_result"
    }
   ],
   "source": [
    "gcp_images.pd_filt"
   ]
  },
  {
   "cell_type": "code",
   "execution_count": 12,
   "id": "1b0ca79c-d0b7-4fdd-949c-e6c24c5f4bb4",
   "metadata": {},
   "outputs": [],
   "source": [
    "# we will just download one\n",
    "pd_filt = gcp_images.pd_filt.copy()"
   ]
  },
  {
   "cell_type": "markdown",
   "id": "89a91eb8-5d51-49fa-bc35-17b5b2870042",
   "metadata": {},
   "source": [
    "### Download Selected Images"
   ]
  },
  {
   "cell_type": "code",
   "execution_count": 13,
   "id": "06490cf3-9000-4552-86ad-bedef0ee8dfc",
   "metadata": {},
   "outputs": [
    {
     "name": "stdout",
     "output_type": "stream",
     "text": [
      "2021/12/11 11:55:13 - INFO - Running on spacecraft L8\n",
      "2021/12/11 11:55:13 - INFO - Requesting bands ['B2', 'B3', 'B4', 'B5', 'B6']\n",
      "2021/12/11 11:55:13 - INFO - Skipping ./products-int/images-raw/LC08_L1TP_230094_20210904_20210904_01_RT (dir already existed).\n",
      "2021/12/11 11:55:13 - INFO - Skipping ./products-int/images-raw/LC08_L1TP_230094_20210904_20210910_01_T1 (dir already existed).\n"
     ]
    }
   ],
   "source": [
    "# Bands to Query\n",
    "LANDSAT8_BANDS = [\"B2\", \"B3\", \"B4\", \"B5\", \"B6\"]\n",
    "# Init Google Cloud bucket Downloader\n",
    "bid = bucket_images_downloader(spacecraft=\"L8\", bands=LANDSAT8_BANDS)\n",
    "# Start Downloading with up to 5 simultaneous downloads\n",
    "bid.execute(\n",
    "    pd_filt[\"base-url\"].to_list(),\n",
    "    archive=IMAGES_RAW,\n",
    "    max_proc_thread=5,\n",
    "    force_download=False,\n",
    ")"
   ]
  },
  {
   "cell_type": "markdown",
   "id": "6566c31c-d76a-411e-b5bc-bf30223b7cad",
   "metadata": {},
   "source": [
    "## Landsat 5 - Historic Arxive\n",
    "\n",
    "### Query Images Data (on PATH/ROW)"
   ]
  },
  {
   "cell_type": "code",
   "execution_count": 14,
   "id": "4bc82d95-a51a-42c9-95ad-264ffb2969d6",
   "metadata": {},
   "outputs": [],
   "source": [
    "# Tile to Download\n",
    "TILE = [\"230\", \"094\"]\n",
    "# Filters on Results\n",
    "LANDSAT_FILTERS = [\"*_L1TP_*\"]\n",
    "# date\n",
    "INI_DATETIME_STR = \"2011-09-10\"\n",
    "END_DATETIME_STR = \"2011-11-10\""
   ]
  },
  {
   "cell_type": "code",
   "execution_count": 15,
   "id": "5cb37a79-3fc6-48ab-9213-555fc04a8e2a",
   "metadata": {},
   "outputs": [
    {
     "name": "stdout",
     "output_type": "stream",
     "text": [
      "2021/12/11 11:55:13 - INFO - Running on spacecraft L5\n",
      "2021/12/11 11:55:13 - INFO - Setting boto path to: /home/aperez/.boto\n",
      "2021/12/11 11:55:13 - DEBUG - Running: gsutil ls gs://gcp-public-data-landsat/LT05/01/230/094/\n",
      "2021/12/11 11:55:14 - INFO - Checking bucket: gsutil ls gs://gcp-public-data-landsat/LT05/01/230/094/\n",
      "2021/12/11 11:55:14 - DEBUG - Copying meta with cmd: gsutil cp gs://gcp-public-data-landsat/LT05/01/230/094/LT05_L1TP_230094_20111011_20161005_01_T1/LT05_L1TP_230094_20111011_20161005_01_T1_MTL.txt /tmp/tmpy7p3z8ga\n",
      "2021/12/11 11:55:14 - DEBUG - Copying meta with cmd: gsutil cp gs://gcp-public-data-landsat/LT05/01/230/094/LT05_L1TP_230094_20111027_20161005_01_T1/LT05_L1TP_230094_20111027_20161005_01_T1_MTL.txt /tmp/tmpy7p3z8ga\n"
     ]
    }
   ],
   "source": [
    "# initImagesCheck\n",
    "gcp_images = gcSatImg(spacecraft=\"L5\")\n",
    "# Check Images ond Google Cloud Sentinel Bucket\n",
    "gcp_images.gcImagesCheck(TILE)\n",
    "# Now filt them\n",
    "gcp_images.gcImagesFilt(\n",
    "    filters=LANDSAT_FILTERS, dates=[INI_DATETIME_STR, END_DATETIME_STR]\n",
    ")"
   ]
  },
  {
   "cell_type": "code",
   "execution_count": 16,
   "id": "1df2a7e1-9415-444f-8541-5584f3bc7386",
   "metadata": {},
   "outputs": [
    {
     "data": {
      "text/html": [
       "<div>\n",
       "<style scoped>\n",
       "    .dataframe tbody tr th:only-of-type {\n",
       "        vertical-align: middle;\n",
       "    }\n",
       "\n",
       "    .dataframe tbody tr th {\n",
       "        vertical-align: top;\n",
       "    }\n",
       "\n",
       "    .dataframe thead th {\n",
       "        text-align: right;\n",
       "    }\n",
       "</style>\n",
       "<table border=\"1\" class=\"dataframe\">\n",
       "  <thead>\n",
       "    <tr style=\"text-align: right;\">\n",
       "      <th></th>\n",
       "      <th>product-id</th>\n",
       "      <th>base-url</th>\n",
       "      <th>date</th>\n",
       "      <th>clouds</th>\n",
       "    </tr>\n",
       "  </thead>\n",
       "  <tbody>\n",
       "    <tr>\n",
       "      <th>0</th>\n",
       "      <td>LT05_L1TP_230094_20111011_20161005_01_T1</td>\n",
       "      <td>gs://gcp-public-data-landsat/LT05/01/230/094/L...</td>\n",
       "      <td>2011-10-11</td>\n",
       "      <td>7.00</td>\n",
       "    </tr>\n",
       "    <tr>\n",
       "      <th>1</th>\n",
       "      <td>LT05_L1TP_230094_20111027_20161005_01_T1</td>\n",
       "      <td>gs://gcp-public-data-landsat/LT05/01/230/094/L...</td>\n",
       "      <td>2011-10-27</td>\n",
       "      <td>12.00</td>\n",
       "    </tr>\n",
       "  </tbody>\n",
       "</table>\n",
       "</div>"
      ],
      "text/plain": [
       "                                 product-id  \\\n",
       "0  LT05_L1TP_230094_20111011_20161005_01_T1   \n",
       "1  LT05_L1TP_230094_20111027_20161005_01_T1   \n",
       "\n",
       "                                            base-url       date clouds  \n",
       "0  gs://gcp-public-data-landsat/LT05/01/230/094/L... 2011-10-11   7.00  \n",
       "1  gs://gcp-public-data-landsat/LT05/01/230/094/L... 2011-10-27  12.00  "
      ]
     },
     "execution_count": 16,
     "metadata": {},
     "output_type": "execute_result"
    }
   ],
   "source": [
    "gcp_images.pd_filt"
   ]
  },
  {
   "cell_type": "code",
   "execution_count": 17,
   "id": "82893d8a-0b94-4d79-aafb-5e72f98ead05",
   "metadata": {},
   "outputs": [],
   "source": [
    "# we will just download one\n",
    "pd_filt = gcp_images.pd_filt.iloc[[0]]"
   ]
  },
  {
   "cell_type": "markdown",
   "id": "7d1e3452-b47f-4dd3-90ca-10a1c31d2860",
   "metadata": {},
   "source": [
    "### Download Selected Images"
   ]
  },
  {
   "cell_type": "code",
   "execution_count": 18,
   "id": "1280fe3a-ea93-4d3f-b955-cd378795a41f",
   "metadata": {},
   "outputs": [
    {
     "name": "stdout",
     "output_type": "stream",
     "text": [
      "2021/12/11 11:55:15 - INFO - Running on spacecraft L5\n",
      "2021/12/11 11:55:15 - INFO - Requesting bands ['B1', 'B2', 'B3', 'B4', 'B5']\n",
      "2021/12/11 11:55:15 - INFO - Skipping ./products-int/images-raw/LT05_L1TP_230094_20111011_20161005_01_T1 (dir already existed).\n"
     ]
    }
   ],
   "source": [
    "# Bands to Query\n",
    "LANDSAT5_BANDS = [\"B1\", \"B2\", \"B3\", \"B4\", \"B5\"]\n",
    "# Init Google Cloud bucket Downloader\n",
    "bid = bucket_images_downloader(spacecraft=\"L5\", bands=LANDSAT5_BANDS)\n",
    "# Start Downloading with up to 5 simultaneous downloads\n",
    "bid.execute(\n",
    "    pd_filt[\"base-url\"].to_list(),\n",
    "    archive=IMAGES_RAW,\n",
    "    max_proc_thread=5,\n",
    "    force_download=False,\n",
    ")"
   ]
  },
  {
   "cell_type": "code",
   "execution_count": null,
   "id": "ee9f2ced-33ee-4028-85e1-589dd57eaa36",
   "metadata": {},
   "outputs": [],
   "source": []
  }
 ],
 "metadata": {
  "interpreter": {
   "hash": "4c78f1f64d2c4342f66d9fb6b32ba24e0b7f5d27c9741402c1c09b132e667596"
  },
  "kernelspec": {
   "display_name": "Python 3 (ipykernel)",
   "language": "python",
   "name": "python3"
  },
  "language_info": {
   "codemirror_mode": {
    "name": "ipython",
    "version": 3
   },
   "file_extension": ".py",
   "mimetype": "text/x-python",
   "name": "python",
   "nbconvert_exporter": "python",
   "pygments_lexer": "ipython3",
   "version": "3.8.12"
  }
 },
 "nbformat": 4,
 "nbformat_minor": 5
}
