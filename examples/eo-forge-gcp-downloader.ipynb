{
 "cells": [
  {
   "cell_type": "markdown",
   "id": "de9cd024",
   "metadata": {},
   "source": [
    "# EO-Forge GCP Downloader\n",
    "\n",
    "## EO-Forge Downloader\n",
    "\n",
    "We will cover the basics steps to download scenes from:\n",
    "\n",
    "-  Landsat 5\n",
    "-  Landsat 8\n",
    "-  Sentinel 2\n"
   ]
  },
  {
   "cell_type": "code",
   "execution_count": null,
   "id": "9299865a",
   "metadata": {},
   "outputs": [],
   "source": [
    "import os\n",
    "#\n",
    "from eo_forge.utils.downloader import bucket_images_downloader,gcSatImg"
   ]
  },
  {
   "cell_type": "markdown",
   "id": "1a8a0947",
   "metadata": {},
   "source": [
    "### Configurations\n",
    "\n",
    "Pick dates and folders to dump the images"
   ]
  },
  {
   "cell_type": "code",
   "execution_count": null,
   "id": "06c521b5",
   "metadata": {
    "tags": []
   },
   "outputs": [],
   "source": [
    "#date\n",
    "INI_DATETIME_STR='2021-08-10'\n",
    "END_DATETIME_STR='2021-09-09'\n",
    "#\n",
    "BASE_PROD='./products-int/'\n",
    "#\n",
    "# IMAGES CROP\n",
    "IMAGES_RAW=os.path.join(BASE_PROD,'images-raw')\n",
    "os.makedirs(IMAGES_RAW,exist_ok=True)"
   ]
  },
  {
   "cell_type": "markdown",
   "id": "6e265e1d",
   "metadata": {},
   "source": [
    "## Sentinel 2 Tile\n",
    "\n",
    "__NOTE__: Have you checked google cloud requisites in _eo-forge-gcp-downloader-0.ipynb_?\n",
    "\n",
    "For Sentinel 2 you will need a boto config file.\n"
   ]
  },
  {
   "cell_type": "markdown",
   "id": "ef632ab7-d90f-4590-b59f-a024c3834a1e",
   "metadata": {},
   "source": [
    "### Query Images Data (on TILE)"
   ]
  },
  {
   "cell_type": "code",
   "execution_count": null,
   "id": "bdd27366",
   "metadata": {
    "tags": []
   },
   "outputs": [],
   "source": [
    "# Tile to Download\n",
    "TILE=[\"19\",\"F\",\"CF\"]\n",
    "# Filters on Results\n",
    "SENTINEL2_FILTERS=[\"*_R010_*\"]"
   ]
  },
  {
   "cell_type": "code",
   "execution_count": null,
   "id": "68f32e65-5227-4f2b-834c-530ef7cddd59",
   "metadata": {},
   "outputs": [],
   "source": [
    "import os"
   ]
  },
  {
   "cell_type": "code",
   "execution_count": null,
   "id": "f5907c62-bb2a-472b-9c3e-ed98d6efc569",
   "metadata": {},
   "outputs": [],
   "source": [
    "# initImagesCheck\n",
    "gcp_images=gcSatImg(spacecraft='S2')\n",
    "# Check Images ond Google Cloud Sentinel Bucket\n",
    "gcp_images.gcImagesCheck(TILE)\n",
    "# Now filt them\n",
    "gcp_images.gcImagesFilt(filters=SENTINEL2_FILTERS,dates=[INI_DATETIME_STR,END_DATETIME_STR])"
   ]
  },
  {
   "cell_type": "code",
   "execution_count": null,
   "id": "2b1472cd",
   "metadata": {
    "tags": []
   },
   "outputs": [],
   "source": [
    "# we will just download one\n",
    "pd_filt=gcp_images.pd_filt.iloc[[0]]"
   ]
  },
  {
   "cell_type": "markdown",
   "id": "614c0c60",
   "metadata": {
    "tags": []
   },
   "source": [
    "### Download Selected Images"
   ]
  },
  {
   "cell_type": "code",
   "execution_count": null,
   "id": "c67336f4",
   "metadata": {
    "tags": []
   },
   "outputs": [],
   "source": [
    "# Bands to Query\n",
    "SENTINEL2_BANDS=[\"B02\",\"B03\",\"B04\",\"B08\",\"B11\"]\n",
    "# Init Google Cloud bucket Downloader\n",
    "bid=bucket_images_downloader(spacecraft='S2',bands=SENTINEL2_BANDS)\n",
    "# Start Downloading with up to 5 simultaneous downloads\n",
    "bid.execute(pd_filt['base-url'].to_list(),arxive=IMAGES_RAW,max_proc_thread=5,force_download=False)"
   ]
  },
  {
   "cell_type": "markdown",
   "id": "e5d9c833-bdcd-4a6d-8de4-80d613d625cb",
   "metadata": {},
   "source": [
    "## Landsat 8\n",
    "\n",
    "### Query Images Data (on PATH/ROW)"
   ]
  },
  {
   "cell_type": "code",
   "execution_count": null,
   "id": "5cf8d2c0-0cd0-4a8c-a4d2-3a2e5bd8264c",
   "metadata": {},
   "outputs": [],
   "source": [
    "# Tile to Download\n",
    "TILE=[\"230\",\"094\"]\n",
    "# Filters on Results\n",
    "LANDSAT_FILTERS=[\"*_L1TP_*\"]"
   ]
  },
  {
   "cell_type": "code",
   "execution_count": null,
   "id": "b6670a64-16c4-43b0-b1dd-d71c47256d4c",
   "metadata": {},
   "outputs": [],
   "source": [
    "# initImagesCheck\n",
    "gcp_images=gcSatImg(spacecraft='L8')\n",
    "# Check Images ond Google Cloud Sentinel Bucket\n",
    "gcp_images.gcImagesCheck(TILE)\n",
    "# Now filt them\n",
    "gcp_images.gcImagesFilt(filters=LANDSAT_FILTERS,dates=[INI_DATETIME_STR,END_DATETIME_STR])"
   ]
  },
  {
   "cell_type": "code",
   "execution_count": null,
   "id": "f80bacb4-4acd-4623-9d81-6a41a9acd9bf",
   "metadata": {},
   "outputs": [],
   "source": [
    "gcp_images.pd_filt"
   ]
  },
  {
   "cell_type": "code",
   "execution_count": null,
   "id": "1b0ca79c-d0b7-4fdd-949c-e6c24c5f4bb4",
   "metadata": {},
   "outputs": [],
   "source": [
    "# we will just download one\n",
    "pd_filt=gcp_images.pd_filt.copy()"
   ]
  },
  {
   "cell_type": "markdown",
   "id": "89a91eb8-5d51-49fa-bc35-17b5b2870042",
   "metadata": {},
   "source": [
    "### Download Selected Images"
   ]
  },
  {
   "cell_type": "code",
   "execution_count": null,
   "id": "06490cf3-9000-4552-86ad-bedef0ee8dfc",
   "metadata": {},
   "outputs": [],
   "source": [
    "# Bands to Query\n",
    "LANDSAT8_BANDS=[\"B2\",\"B3\",\"B4\",\"B5\",\"B6\"]\n",
    "# Init Google Cloud bucket Downloader\n",
    "bid=bucket_images_downloader(spacecraft='L8',bands=LANDSAT8_BANDS)\n",
    "# Start Downloading with up to 5 simultaneous downloads\n",
    "bid.execute(pd_filt['base-url'].to_list(),arxive=IMAGES_RAW,max_proc_thread=5,force_download=False)"
   ]
  },
  {
   "cell_type": "markdown",
   "id": "6566c31c-d76a-411e-b5bc-bf30223b7cad",
   "metadata": {},
   "source": [
    "## Landsat 5 - Historic Arxive\n",
    "\n",
    "### Query Images Data (on PATH/ROW)"
   ]
  },
  {
   "cell_type": "code",
   "execution_count": null,
   "id": "4bc82d95-a51a-42c9-95ad-264ffb2969d6",
   "metadata": {},
   "outputs": [],
   "source": [
    "# Tile to Download\n",
    "TILE=[\"230\",\"094\"]\n",
    "# Filters on Results\n",
    "LANDSAT_FILTERS=[\"*_L1TP_*\"]\n",
    "#date\n",
    "INI_DATETIME_STR='2011-09-10'\n",
    "END_DATETIME_STR='2011-11-10'"
   ]
  },
  {
   "cell_type": "code",
   "execution_count": null,
   "id": "5cb37a79-3fc6-48ab-9213-555fc04a8e2a",
   "metadata": {},
   "outputs": [],
   "source": [
    "# initImagesCheck\n",
    "gcp_images=gcSatImg(spacecraft='L5')\n",
    "# Check Images ond Google Cloud Sentinel Bucket\n",
    "gcp_images.gcImagesCheck(TILE)\n",
    "# Now filt them\n",
    "gcp_images.gcImagesFilt(filters=LANDSAT_FILTERS,dates=[INI_DATETIME_STR,END_DATETIME_STR])"
   ]
  },
  {
   "cell_type": "code",
   "execution_count": null,
   "id": "1df2a7e1-9415-444f-8541-5584f3bc7386",
   "metadata": {},
   "outputs": [],
   "source": [
    "gcp_images.pd_filt"
   ]
  },
  {
   "cell_type": "code",
   "execution_count": null,
   "id": "82893d8a-0b94-4d79-aafb-5e72f98ead05",
   "metadata": {},
   "outputs": [],
   "source": [
    "# we will just download one\n",
    "pd_filt=gcp_images.pd_filt.iloc[[0]]"
   ]
  },
  {
   "cell_type": "markdown",
   "id": "7d1e3452-b47f-4dd3-90ca-10a1c31d2860",
   "metadata": {},
   "source": [
    "### Download Selected Images"
   ]
  },
  {
   "cell_type": "code",
   "execution_count": null,
   "id": "1280fe3a-ea93-4d3f-b955-cd378795a41f",
   "metadata": {},
   "outputs": [],
   "source": [
    "# Bands to Query\n",
    "LANDSAT5_BANDS=[\"B1\",\"B2\",\"B3\",\"B4\",\"B5\"]\n",
    "# Init Google Cloud bucket Downloader\n",
    "bid=bucket_images_downloader(spacecraft='L5',bands=LANDSAT5_BANDS)\n",
    "# Start Downloading with up to 5 simultaneous downloads\n",
    "bid.execute(pd_filt['base-url'].to_list(),arxive=IMAGES_RAW,max_proc_thread=5,force_download=False)"
   ]
  }
 ],
 "metadata": {
  "interpreter": {
   "hash": "4c78f1f64d2c4342f66d9fb6b32ba24e0b7f5d27c9741402c1c09b132e667596"
  },
  "kernelspec": {
   "display_name": "Python 3",
   "language": "python",
   "name": "python3"
  },
  "language_info": {
   "codemirror_mode": {
    "name": "ipython",
    "version": 3
   },
   "file_extension": ".py",
   "mimetype": "text/x-python",
   "name": "python",
   "nbconvert_exporter": "python",
   "pygments_lexer": "ipython3",
   "version": "3.7.12"
  }
 },
 "nbformat": 4,
 "nbformat_minor": 5
}
