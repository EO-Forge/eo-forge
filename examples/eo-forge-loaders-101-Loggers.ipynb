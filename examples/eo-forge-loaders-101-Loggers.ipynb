{
 "cells": [
  {
   "cell_type": "markdown",
   "id": "de9cd024",
   "metadata": {},
   "source": [
    "# EO-Forge Loaders 1.0.1 - Logging\n",
    "\n",
    "This notebooks showcase the logging functionality built-in into eo-forge. \n",
    "\n",
    "By default, the library will try to use the root logger. If it is not defined, the library sets a default logger\n",
    "that prints the information to the stderr (min level=DEBUG). The logger is \"eo_forge.default\" and it is located at\n",
    "`eo_forge.default_logger`. Note that this logger is used in all the modules of the library by default.\n",
    "\n",
    "Below we show a few usage examples of the logging capabilities.\n",
    "To that end, we assume that you have already downloaded some images (we cover the download steps from GCP in other [notebook](./eo-forge-gcp-downloader.ipynb)):\n",
    "\n",
    "- Landsat 5/8 - Path/Row : 230/094\n",
    "- Sentinel2 - Tile: 19FCF"
   ]
  },
  {
   "cell_type": "markdown",
   "id": "6d99981d-cab8-4025-8701-3cdff7df0cd8",
   "metadata": {},
   "source": [
    "## Default logging\n",
    "\n",
    "Here we will show how the default loggin looks like."
   ]
  },
  {
   "cell_type": "code",
   "execution_count": 1,
   "id": "9299865a",
   "metadata": {},
   "outputs": [],
   "source": [
    "################################\n",
    "# General imports and definitions\n",
    "\n",
    "import os\n",
    "\n",
    "import geopandas as gpd\n",
    "import matplotlib.pyplot as plt\n",
    "import numpy as np\n",
    "import pandas as pd\n",
    "import rasterio as rio\n",
    "from earthpy import plot\n",
    "\n",
    "import eo_forge\n",
    "from eo_forge.io.LandsatLoaders import LandsatLoader\n",
    "from eo_forge.io.SentinelLoaders import Sentinel2Loader\n",
    "\n",
    "# Base dir\n",
    "TMP_PROD = \"./products-int/\"\n",
    "# IMAGES RAW Search Path\n",
    "IMAGES_RAW = os.path.join(TMP_PROD, \"images-raw\")\n",
    "#\n",
    "# IMAGES CROP Path (to leave cropped files - if appy)\n",
    "PROD_INT_DIR = os.path.join(TMP_PROD, \"images-crop\")\n",
    "os.makedirs(PROD_INT_DIR, exist_ok=True)"
   ]
  },
  {
   "cell_type": "code",
   "execution_count": 2,
   "id": "d71f1f2f-13cb-41f7-903c-e62645d4c2ca",
   "metadata": {},
   "outputs": [
    {
     "name": "stdout",
     "output_type": "stream",
     "text": [
      "2021/12/14 11:18:47 - INFO - Running on Landsat 5 data\n"
     ]
    }
   ],
   "source": [
    "# Init Loader and query bands\n",
    "LANDSAT5_BANDS = [\"B1\", \"B2\", \"B3\", \"B4\", \"B5\"]\n",
    "lp = LandsatLoader(IMAGES_RAW, bands=LANDSAT5_BANDS, spacecraft=5)"
   ]
  },
  {
   "cell_type": "markdown",
   "id": "fde655ba-aa80-499a-a2e1-26d2ecc823c1",
   "metadata": {
    "tags": []
   },
   "source": [
    "That is, we have instantiated the Loader with:\n",
    "- folder: IMAGE_RAW, the place where we look for products (see later)\n",
    "- bands: list of bands that we require to be processed\n",
    "- spacecraft: 5\n",
    "- resolution: leave default @ 30 meters\n",
    "- reflectance: leave default as True so calculate reflectance @ TOA (otherwise calculate radiance)\n",
    "\n",
    "And now call the processor for the requested product-id:"
   ]
  },
  {
   "cell_type": "code",
   "execution_count": 3,
   "id": "b4f46d42-fbc5-410b-b0a4-4c6785ab0235",
   "metadata": {},
   "outputs": [
    {
     "name": "stdout",
     "output_type": "stream",
     "text": [
      "2021/12/14 11:18:48 - INFO - Processing on ./products-int/images-raw/LT05_L1TP_230094_20111011_20161005_01_T1 dir\n",
      "2021/12/14 11:18:48 - INFO - Using clipping flag: False\n",
      "2021/12/14 11:18:48 - INFO - PROCESSING band: B1\n",
      "2021/12/14 11:18:48 - INFO - resample: False - scale factor 1 - true pixel 30.0\n",
      "2021/12/14 11:18:48 - INFO - no bbox - full match: True - area: 1\n",
      "2021/12/14 11:18:49 - INFO - calibrating band B1\n",
      "2021/12/14 11:18:51 - INFO - reprojecting band B1\n",
      "2021/12/14 11:18:58 - INFO - PROCESSING band: B2\n",
      "2021/12/14 11:18:58 - INFO - resample: False - scale factor 1 - true pixel 30.0\n",
      "2021/12/14 11:18:58 - INFO - no bbox - full match: True - area: 1\n",
      "2021/12/14 11:18:58 - INFO - calibrating band B2\n",
      "2021/12/14 11:19:00 - INFO - reprojecting band B2\n",
      "2021/12/14 11:19:07 - INFO - PROCESSING band: B3\n",
      "2021/12/14 11:19:07 - INFO - resample: False - scale factor 1 - true pixel 30.0\n",
      "2021/12/14 11:19:07 - INFO - no bbox - full match: True - area: 1\n",
      "2021/12/14 11:19:08 - INFO - calibrating band B3\n",
      "2021/12/14 11:19:09 - INFO - reprojecting band B3\n",
      "2021/12/14 11:19:17 - INFO - PROCESSING band: B4\n",
      "2021/12/14 11:19:17 - INFO - resample: False - scale factor 1 - true pixel 30.0\n",
      "2021/12/14 11:19:17 - INFO - no bbox - full match: True - area: 1\n",
      "2021/12/14 11:19:17 - INFO - calibrating band B4\n",
      "2021/12/14 11:19:19 - INFO - reprojecting band B4\n",
      "2021/12/14 11:19:26 - INFO - PROCESSING band: B5\n",
      "2021/12/14 11:19:26 - INFO - resample: False - scale factor 1 - true pixel 30.0\n",
      "2021/12/14 11:19:26 - INFO - no bbox - full match: True - area: 1\n",
      "2021/12/14 11:19:27 - INFO - calibrating band B5\n",
      "2021/12/14 11:19:28 - INFO - reprojecting band B5\n",
      "2021/12/14 11:19:36 - INFO - Got Full Match (if applies) - no need to merge\n",
      "2021/12/14 11:19:43 - INFO - Writting raster processed data to ./products-int/images-crop/LT05_L1TP_230094_20111011_20161005_01_T1_complete.TIF\n",
      "2021/12/14 11:19:43 - INFO - Processing band: BQA\n",
      "2021/12/14 11:19:43 - INFO - resample: False - scale factor 1 - true pixel 30.0\n",
      "2021/12/14 11:19:43 - INFO - no bbox - full match: True - area: 1\n",
      "2021/12/14 11:19:43 - INFO - calibrating band BQA\n",
      "2021/12/14 11:19:45 - INFO - Writting raster cloud processed data to ./products-int/images-crop/LT05_L1TP_230094_20111011_20161005_01_T1_CLOUDS_complete.TIF\n"
     ]
    }
   ],
   "source": [
    "product_id = \"LT05_L1TP_230094_20111011_20161005_01_T1\"\n",
    "res_ = lp.execute(\n",
    "    product_id,\n",
    "    bbox=None,\n",
    "    folder_proc_=PROD_INT_DIR,\n",
    "    raster_return_open=False,\n",
    "    write_file=\"_complete\",\n",
    ")"
   ]
  },
  {
   "cell_type": "markdown",
   "id": "16bd68ba-e247-45a0-b1be-51e1392977f7",
   "metadata": {},
   "source": [
    "Looks pretty nice, right?\n",
    "\n",
    "Now, let's create a custom logger that prints the data to the stderr and to a file instead.\n",
    "\n",
    "There are two ways of customize the logging. \n",
    "- One is at the library level. That is, we change the default logger that is used in across the library.\n",
    "- The other alternative is creating a logger that is passed to the different functions and classes (`logger` keyword).\n",
    "\n",
    "Let's use the second approach in the next example."
   ]
  },
  {
   "cell_type": "markdown",
   "id": "a7dc7aab-6756-473f-b536-92376e91e015",
   "metadata": {},
   "source": [
    "## Custom logging instance\n",
    "\n",
    "Let's first create a custom loggin instance."
   ]
  },
  {
   "cell_type": "code",
   "execution_count": 10,
   "id": "154f7f9a-eac2-44b8-9294-381eb68054d4",
   "metadata": {},
   "outputs": [
    {
     "data": {
      "text/plain": [
       "<Logger my_logger (DEBUG)>"
      ]
     },
     "execution_count": 10,
     "metadata": {},
     "output_type": "execute_result"
    }
   ],
   "source": [
    "import logging\n",
    "\n",
    "logger = logging.getLogger(\"my_logger\")\n",
    "\n",
    "# Use a different log format\n",
    "fmt = logging.Formatter(\n",
    "    \"[%(asctime)s] [%(levelname)s] %(message)s\", datefmt=\"%Y/%m/%d %H:%M:%S\"\n",
    ")\n",
    "\n",
    "## Add two handlers\n",
    "\n",
    "# This one shows logs with a level equal or higher than INFO\n",
    "stderr_handler = logging.StreamHandler()\n",
    "stderr_handler.setLevel(logging.INFO)\n",
    "stderr_handler.setFormatter(fmt)\n",
    "logger.addHandler(stderr_handler)\n",
    "\n",
    "# This one shows logs with a level equal or higher than DEBUG\n",
    "import os\n",
    "\n",
    "if os.path.isfile(\"important_logs.log\"):\n",
    "    os.unlink(\"important_logs.log\")\n",
    "filedump_handler = logging.FileHandler(\"important_logs.log\")\n",
    "filedump_handler.setLevel(logging.DEBUG)\n",
    "filedump_handler.setFormatter(fmt)\n",
    "logger.addHandler(filedump_handler)\n",
    "logger.setLevel(logging.DEBUG)\n",
    "logger"
   ]
  },
  {
   "cell_type": "markdown",
   "id": "1fc45ffb-9ebe-4833-95a4-7beadc3f67b6",
   "metadata": {},
   "source": [
    "Now, let's use it in the same task as before."
   ]
  },
  {
   "cell_type": "code",
   "execution_count": 11,
   "id": "09f5e205-df18-4c47-83db-e66195672398",
   "metadata": {},
   "outputs": [
    {
     "name": "stderr",
     "output_type": "stream",
     "text": [
      " 2021/12/11 11:53:41 || INFO] || Running on Landsat 5 data\n",
      "[2021/12/11 11:53:41] [INFO] Running on Landsat 5 data\n",
      " 2021/12/11 11:53:41 || INFO] || Processing on ./products-int/images-raw/LT05_L1TP_230094_20111011_20161005_01_T1 dir\n",
      "[2021/12/11 11:53:41] [INFO] Processing on ./products-int/images-raw/LT05_L1TP_230094_20111011_20161005_01_T1 dir\n",
      " 2021/12/11 11:53:41 || INFO] || Using clipping flag: False\n",
      "[2021/12/11 11:53:41] [INFO] Using clipping flag: False\n",
      " 2021/12/11 11:53:41 || INFO] || PROCESSING band: B1\n",
      "[2021/12/11 11:53:41] [INFO] PROCESSING band: B1\n",
      " 2021/12/11 11:53:41 || INFO] || resample: False - scale factor 1 - true pixel 30.0\n",
      "[2021/12/11 11:53:41] [INFO] resample: False - scale factor 1 - true pixel 30.0\n",
      " 2021/12/11 11:53:41 || INFO] || no bbox - full match: True - area: 1\n",
      "[2021/12/11 11:53:41] [INFO] no bbox - full match: True - area: 1\n",
      " 2021/12/11 11:53:42 || INFO] || calibrating band B1\n",
      "[2021/12/11 11:53:42] [INFO] calibrating band B1\n",
      " 2021/12/11 11:53:43 || INFO] || reprojecting band B1\n",
      "[2021/12/11 11:53:43] [INFO] reprojecting band B1\n",
      " 2021/12/11 11:53:51 || INFO] || PROCESSING band: B2\n",
      "[2021/12/11 11:53:51] [INFO] PROCESSING band: B2\n",
      " 2021/12/11 11:53:51 || INFO] || resample: False - scale factor 1 - true pixel 30.0\n",
      "[2021/12/11 11:53:51] [INFO] resample: False - scale factor 1 - true pixel 30.0\n",
      " 2021/12/11 11:53:51 || INFO] || no bbox - full match: True - area: 1\n",
      "[2021/12/11 11:53:51] [INFO] no bbox - full match: True - area: 1\n",
      " 2021/12/11 11:53:51 || INFO] || calibrating band B2\n",
      "[2021/12/11 11:53:51] [INFO] calibrating band B2\n",
      " 2021/12/11 11:53:53 || INFO] || reprojecting band B2\n",
      "[2021/12/11 11:53:53] [INFO] reprojecting band B2\n",
      " 2021/12/11 11:54:00 || INFO] || PROCESSING band: B3\n",
      "[2021/12/11 11:54:00] [INFO] PROCESSING band: B3\n",
      " 2021/12/11 11:54:00 || INFO] || resample: False - scale factor 1 - true pixel 30.0\n",
      "[2021/12/11 11:54:00] [INFO] resample: False - scale factor 1 - true pixel 30.0\n",
      " 2021/12/11 11:54:00 || INFO] || no bbox - full match: True - area: 1\n",
      "[2021/12/11 11:54:00] [INFO] no bbox - full match: True - area: 1\n",
      " 2021/12/11 11:54:00 || INFO] || calibrating band B3\n",
      "[2021/12/11 11:54:00] [INFO] calibrating band B3\n",
      " 2021/12/11 11:54:02 || INFO] || reprojecting band B3\n",
      "[2021/12/11 11:54:02] [INFO] reprojecting band B3\n",
      " 2021/12/11 11:54:09 || INFO] || PROCESSING band: B4\n",
      "[2021/12/11 11:54:09] [INFO] PROCESSING band: B4\n",
      " 2021/12/11 11:54:09 || INFO] || resample: False - scale factor 1 - true pixel 30.0\n",
      "[2021/12/11 11:54:09] [INFO] resample: False - scale factor 1 - true pixel 30.0\n",
      " 2021/12/11 11:54:09 || INFO] || no bbox - full match: True - area: 1\n",
      "[2021/12/11 11:54:09] [INFO] no bbox - full match: True - area: 1\n",
      " 2021/12/11 11:54:10 || INFO] || calibrating band B4\n",
      "[2021/12/11 11:54:10] [INFO] calibrating band B4\n",
      " 2021/12/11 11:54:12 || INFO] || reprojecting band B4\n",
      "[2021/12/11 11:54:12] [INFO] reprojecting band B4\n",
      " 2021/12/11 11:54:19 || INFO] || PROCESSING band: B5\n",
      "[2021/12/11 11:54:19] [INFO] PROCESSING band: B5\n",
      " 2021/12/11 11:54:19 || INFO] || resample: False - scale factor 1 - true pixel 30.0\n",
      "[2021/12/11 11:54:19] [INFO] resample: False - scale factor 1 - true pixel 30.0\n",
      " 2021/12/11 11:54:19 || INFO] || no bbox - full match: True - area: 1\n",
      "[2021/12/11 11:54:19] [INFO] no bbox - full match: True - area: 1\n",
      " 2021/12/11 11:54:19 || INFO] || calibrating band B5\n",
      "[2021/12/11 11:54:19] [INFO] calibrating band B5\n",
      " 2021/12/11 11:54:21 || INFO] || reprojecting band B5\n",
      "[2021/12/11 11:54:21] [INFO] reprojecting band B5\n",
      " 2021/12/11 11:54:29 || INFO] || Got Full Match (if applies) - no need to merge\n",
      "[2021/12/11 11:54:29] [INFO] Got Full Match (if applies) - no need to merge\n",
      " 2021/12/11 11:54:36 || INFO] || Writting raster processed data to ./products-int/images-crop/LT05_L1TP_230094_20111011_20161005_01_T1_complete.TIF\n",
      "[2021/12/11 11:54:36] [INFO] Writting raster processed data to ./products-int/images-crop/LT05_L1TP_230094_20111011_20161005_01_T1_complete.TIF\n",
      " 2021/12/11 11:54:36 || INFO] || Processing band: BQA\n",
      "[2021/12/11 11:54:36] [INFO] Processing band: BQA\n",
      " 2021/12/11 11:54:36 || INFO] || resample: False - scale factor 1 - true pixel 30.0\n",
      "[2021/12/11 11:54:36] [INFO] resample: False - scale factor 1 - true pixel 30.0\n",
      " 2021/12/11 11:54:36 || INFO] || no bbox - full match: True - area: 1\n",
      "[2021/12/11 11:54:36] [INFO] no bbox - full match: True - area: 1\n",
      " 2021/12/11 11:54:36 || INFO] || calibrating band BQA\n",
      "[2021/12/11 11:54:36] [INFO] calibrating band BQA\n",
      " 2021/12/11 11:54:36 || INFO] || reprojecting band BQA\n",
      "[2021/12/11 11:54:36] [INFO] reprojecting band BQA\n",
      " 2021/12/11 11:54:38 || INFO] || Writting raster cloud processed data to ./products-int/images-crop/LT05_L1TP_230094_20111011_20161005_01_T1_CLOUDS_complete.TIF\n",
      "[2021/12/11 11:54:38] [INFO] Writting raster cloud processed data to ./products-int/images-crop/LT05_L1TP_230094_20111011_20161005_01_T1_CLOUDS_complete.TIF\n"
     ]
    }
   ],
   "source": [
    "# With custom logger!\n",
    "lp = LandsatLoader(IMAGES_RAW, bands=LANDSAT5_BANDS, spacecraft=5, logger=logger)\n",
    "\n",
    "product_id = \"LT05_L1TP_230094_20111011_20161005_01_T1\"\n",
    "res_ = lp.execute(\n",
    "    product_id,\n",
    "    bbox=None,\n",
    "    folder_proc_=PROD_INT_DIR,\n",
    "    raster_return_open=False,\n",
    "    write_file=\"_complete\",\n",
    ")"
   ]
  },
  {
   "cell_type": "markdown",
   "id": "e72965ab-78d8-4bf9-afed-91ada0e8c1f2",
   "metadata": {
    "tags": []
   },
   "source": [
    "Let's see the content of the log file."
   ]
  },
  {
   "cell_type": "code",
   "execution_count": 12,
   "id": "1051aca3-6114-4d37-a609-461d91dec16c",
   "metadata": {
    "tags": []
   },
   "outputs": [
    {
     "name": "stdout",
     "output_type": "stream",
     "text": [
      "[2021/12/11 11:53:41] [INFO] Running on Landsat 5 data\n",
      "[2021/12/11 11:53:41] [INFO] Processing on ./products-int/images-raw/LT05_L1TP_230094_20111011_20161005_01_T1 dir\n",
      "[2021/12/11 11:53:41] [INFO] Using clipping flag: False\n",
      "[2021/12/11 11:53:41] [INFO] PROCESSING band: B1\n",
      "[2021/12/11 11:53:41] [INFO] resample: False - scale factor 1 - true pixel 30.0\n",
      "[2021/12/11 11:53:41] [INFO] no bbox - full match: True - area: 1\n",
      "[2021/12/11 11:53:42] [INFO] calibrating band B1\n",
      "[2021/12/11 11:53:43] [INFO] reprojecting band B1\n",
      "[2021/12/11 11:53:51] [INFO] PROCESSING band: B2\n",
      "[2021/12/11 11:53:51] [INFO] resample: False - scale factor 1 - true pixel 30.0\n",
      "[2021/12/11 11:53:51] [INFO] no bbox - full match: True - area: 1\n",
      "[2021/12/11 11:53:51] [INFO] calibrating band B2\n",
      "[2021/12/11 11:53:53] [INFO] reprojecting band B2\n",
      "[2021/12/11 11:54:00] [INFO] PROCESSING band: B3\n",
      "[2021/12/11 11:54:00] [INFO] resample: False - scale factor 1 - true pixel 30.0\n",
      "[2021/12/11 11:54:00] [INFO] no bbox - full match: True - area: 1\n",
      "[2021/12/11 11:54:00] [INFO] calibrating band B3\n",
      "[2021/12/11 11:54:02] [INFO] reprojecting band B3\n",
      "[2021/12/11 11:54:09] [INFO] PROCESSING band: B4\n",
      "[2021/12/11 11:54:09] [INFO] resample: False - scale factor 1 - true pixel 30.0\n",
      "[2021/12/11 11:54:09] [INFO] no bbox - full match: True - area: 1\n",
      "[2021/12/11 11:54:10] [INFO] calibrating band B4\n",
      "[2021/12/11 11:54:12] [INFO] reprojecting band B4\n",
      "[2021/12/11 11:54:19] [INFO] PROCESSING band: B5\n",
      "[2021/12/11 11:54:19] [INFO] resample: False - scale factor 1 - true pixel 30.0\n",
      "[2021/12/11 11:54:19] [INFO] no bbox - full match: True - area: 1\n",
      "[2021/12/11 11:54:19] [INFO] calibrating band B5\n",
      "[2021/12/11 11:54:21] [INFO] reprojecting band B5\n",
      "[2021/12/11 11:54:29] [INFO] Got Full Match (if applies) - no need to merge\n",
      "[2021/12/11 11:54:36] [INFO] Writting raster processed data to ./products-int/images-crop/LT05_L1TP_230094_20111011_20161005_01_T1_complete.TIF\n",
      "[2021/12/11 11:54:36] [INFO] Processing band: BQA\n",
      "[2021/12/11 11:54:36] [INFO] resample: False - scale factor 1 - true pixel 30.0\n",
      "[2021/12/11 11:54:36] [INFO] no bbox - full match: True - area: 1\n",
      "[2021/12/11 11:54:36] [INFO] calibrating band BQA\n",
      "[2021/12/11 11:54:36] [INFO] reprojecting band BQA\n",
      "[2021/12/11 11:54:38] [INFO] Writting raster cloud processed data to ./products-int/images-crop/LT05_L1TP_230094_20111011_20161005_01_T1_CLOUDS_complete.TIF\n",
      "\n"
     ]
    }
   ],
   "source": [
    "with open(\"important_logs.log\") as f:\n",
    "    print(f.read())"
   ]
  },
  {
   "cell_type": "markdown",
   "id": "f3e2cb97-d4d2-48b7-8cd6-bf3772537587",
   "metadata": {},
   "source": [
    "We got the same output as the stderr handler, as expected since they were not debug messages.\n",
    "\n",
    "## Set a new library-wide logger\n",
    "\n",
    "Now, let's repeat the previous example but this time we update the default logger used by the eo-forge library."
   ]
  },
  {
   "cell_type": "code",
   "execution_count": 13,
   "id": "9b87d254-b4b0-423d-b26f-52e8e704bbc9",
   "metadata": {},
   "outputs": [],
   "source": [
    "logger = logging.getLogger(\"my_logger\")\n",
    "#\n",
    "# IMPORTANT: We clean the logger to create a new one from scratch\n",
    "# Otherwise, the handlers are added to the logger previously defined.\n",
    "while logger.hasHandlers():\n",
    "    logger.removeHandler(logger.handlers[0])\n",
    "\n",
    "# Use a different log format than the other examples\n",
    "fmt = logging.Formatter(\n",
    "    \" %(asctime)s || %(levelname)s] || %(message)s\", datefmt=\"%Y/%m/%d %H:%M:%S\"\n",
    ")\n",
    "\n",
    "## Add two handlers\n",
    "\n",
    "# This one shows logs with a level equal or higher than INFO\n",
    "stderr_handler = logging.StreamHandler()\n",
    "stderr_handler.setLevel(logging.INFO)\n",
    "stderr_handler.setFormatter(fmt)\n",
    "logger.addHandler(stderr_handler)\n",
    "\n",
    "# This one shows logs with a level equal or higher than DEBUG\n",
    "# Use a new file name.\n",
    "if os.path.isfile(\"important_logs2.log\"):\n",
    "    os.unlink(\"important_logs2.log\")\n",
    "filedump_handler = logging.FileHandler(\"important_logs2.log\")\n",
    "filedump_handler.setLevel(logging.DEBUG)\n",
    "filedump_handler.setFormatter(fmt)\n",
    "logger.addHandler(filedump_handler)\n",
    "logger.setLevel(logging.DEBUG)\n",
    "\n",
    "####################################\n",
    "# Set the new logger used by default\n",
    "eo_forge.set_default_logger(logger)"
   ]
  },
  {
   "cell_type": "code",
   "execution_count": 14,
   "id": "fdc894e5-7a56-41c5-ab14-35087e375b43",
   "metadata": {},
   "outputs": [
    {
     "name": "stderr",
     "output_type": "stream",
     "text": [
      " 2021/12/11 11:54:38 || INFO] || Running on Landsat 5 data\n",
      " 2021/12/11 11:54:38 || INFO] || Processing on ./products-int/images-raw/LT05_L1TP_230094_20111011_20161005_01_T1 dir\n",
      " 2021/12/11 11:54:38 || INFO] || Using clipping flag: False\n",
      " 2021/12/11 11:54:38 || INFO] || PROCESSING band: B1\n",
      " 2021/12/11 11:54:38 || INFO] || resample: False - scale factor 1 - true pixel 30.0\n",
      " 2021/12/11 11:54:38 || INFO] || no bbox - full match: True - area: 1\n",
      " 2021/12/11 11:54:38 || INFO] || calibrating band B1\n",
      " 2021/12/11 11:54:40 || INFO] || reprojecting band B1\n",
      " 2021/12/11 11:54:47 || INFO] || PROCESSING band: B2\n",
      " 2021/12/11 11:54:47 || INFO] || resample: False - scale factor 1 - true pixel 30.0\n",
      " 2021/12/11 11:54:47 || INFO] || no bbox - full match: True - area: 1\n",
      " 2021/12/11 11:54:48 || INFO] || calibrating band B2\n",
      " 2021/12/11 11:54:49 || INFO] || reprojecting band B2\n",
      " 2021/12/11 11:54:57 || INFO] || PROCESSING band: B3\n",
      " 2021/12/11 11:54:57 || INFO] || resample: False - scale factor 1 - true pixel 30.0\n",
      " 2021/12/11 11:54:57 || INFO] || no bbox - full match: True - area: 1\n",
      " 2021/12/11 11:54:57 || INFO] || calibrating band B3\n",
      " 2021/12/11 11:54:59 || INFO] || reprojecting band B3\n",
      " 2021/12/11 11:55:06 || INFO] || PROCESSING band: B4\n",
      " 2021/12/11 11:55:06 || INFO] || resample: False - scale factor 1 - true pixel 30.0\n",
      " 2021/12/11 11:55:06 || INFO] || no bbox - full match: True - area: 1\n",
      " 2021/12/11 11:55:07 || INFO] || calibrating band B4\n",
      " 2021/12/11 11:55:08 || INFO] || reprojecting band B4\n",
      " 2021/12/11 11:55:16 || INFO] || PROCESSING band: B5\n",
      " 2021/12/11 11:55:16 || INFO] || resample: False - scale factor 1 - true pixel 30.0\n",
      " 2021/12/11 11:55:16 || INFO] || no bbox - full match: True - area: 1\n",
      " 2021/12/11 11:55:16 || INFO] || calibrating band B5\n",
      " 2021/12/11 11:55:18 || INFO] || reprojecting band B5\n",
      " 2021/12/11 11:55:26 || INFO] || Got Full Match (if applies) - no need to merge\n",
      " 2021/12/11 11:55:33 || INFO] || Writting raster processed data to ./products-int/images-crop/LT05_L1TP_230094_20111011_20161005_01_T1_complete.TIF\n",
      " 2021/12/11 11:55:33 || INFO] || Processing band: BQA\n",
      " 2021/12/11 11:55:33 || INFO] || resample: False - scale factor 1 - true pixel 30.0\n",
      " 2021/12/11 11:55:33 || INFO] || no bbox - full match: True - area: 1\n",
      " 2021/12/11 11:55:33 || INFO] || calibrating band BQA\n",
      " 2021/12/11 11:55:33 || INFO] || reprojecting band BQA\n",
      " 2021/12/11 11:55:35 || INFO] || Writting raster cloud processed data to ./products-int/images-crop/LT05_L1TP_230094_20111011_20161005_01_T1_CLOUDS_complete.TIF\n"
     ]
    }
   ],
   "source": [
    "# No custom logger passed this time as a keyword.\n",
    "lp = LandsatLoader(IMAGES_RAW, bands=LANDSAT5_BANDS, spacecraft=5, logger=None)\n",
    "\n",
    "product_id = \"LT05_L1TP_230094_20111011_20161005_01_T1\"\n",
    "res_ = lp.execute(\n",
    "    product_id,\n",
    "    bbox=None,\n",
    "    folder_proc_=PROD_INT_DIR,\n",
    "    raster_return_open=False,\n",
    "    write_file=\"_complete\",\n",
    ")"
   ]
  },
  {
   "cell_type": "code",
   "execution_count": null,
   "id": "520f9f64-1000-4090-9c87-642a2645730a",
   "metadata": {},
   "outputs": [],
   "source": []
  }
 ],
 "metadata": {
  "interpreter": {
   "hash": "4c78f1f64d2c4342f66d9fb6b32ba24e0b7f5d27c9741402c1c09b132e667596"
  },
  "kernelspec": {
   "display_name": "Python 3 (ipykernel)",
   "language": "python",
   "name": "python3"
  },
  "language_info": {
   "codemirror_mode": {
    "name": "ipython",
    "version": 3
   },
   "file_extension": ".py",
   "mimetype": "text/x-python",
   "name": "python",
   "nbconvert_exporter": "python",
   "pygments_lexer": "ipython3",
   "version": "3.8.12"
  }
 },
 "nbformat": 4,
 "nbformat_minor": 5
}
